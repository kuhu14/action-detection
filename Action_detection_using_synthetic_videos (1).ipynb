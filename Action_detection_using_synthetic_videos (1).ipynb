{
  "nbformat": 4,
  "nbformat_minor": 0,
  "metadata": {
    "colab": {
      "provenance": []
    },
    "kernelspec": {
      "name": "python3",
      "display_name": "Python 3"
    },
    "language_info": {
      "name": "python"
    }
  },
  "cells": [
    {
      "cell_type": "code",
      "execution_count": 1,
      "metadata": {
        "colab": {
          "base_uri": "https://localhost:8080/",
          "height": 1000
        },
        "id": "FuTPq0f1FtdM",
        "outputId": "54a7ec59-b4bd-4e6b-aa90-3d2b35cd418e"
      },
      "outputs": [
        {
          "output_type": "stream",
          "name": "stdout",
          "text": [
            "Requirement already satisfied: gradio in /usr/local/lib/python3.10/dist-packages (5.6.0)\n",
            "Requirement already satisfied: aiofiles<24.0,>=22.0 in /usr/local/lib/python3.10/dist-packages (from gradio) (23.2.1)\n",
            "Requirement already satisfied: anyio<5.0,>=3.0 in /usr/local/lib/python3.10/dist-packages (from gradio) (3.7.1)\n",
            "Requirement already satisfied: fastapi<1.0,>=0.115.2 in /usr/local/lib/python3.10/dist-packages (from gradio) (0.115.5)\n",
            "Requirement already satisfied: ffmpy in /usr/local/lib/python3.10/dist-packages (from gradio) (0.4.0)\n",
            "Requirement already satisfied: gradio-client==1.4.3 in /usr/local/lib/python3.10/dist-packages (from gradio) (1.4.3)\n",
            "Requirement already satisfied: httpx>=0.24.1 in /usr/local/lib/python3.10/dist-packages (from gradio) (0.27.2)\n",
            "Requirement already satisfied: huggingface-hub>=0.25.1 in /usr/local/lib/python3.10/dist-packages (from gradio) (0.26.2)\n",
            "Requirement already satisfied: jinja2<4.0 in /usr/local/lib/python3.10/dist-packages (from gradio) (3.1.4)\n",
            "Requirement already satisfied: markupsafe~=2.0 in /usr/local/lib/python3.10/dist-packages (from gradio) (2.1.5)\n",
            "Requirement already satisfied: numpy<3.0,>=1.0 in /usr/local/lib/python3.10/dist-packages (from gradio) (1.26.4)\n",
            "Requirement already satisfied: orjson~=3.0 in /usr/local/lib/python3.10/dist-packages (from gradio) (3.10.11)\n",
            "Requirement already satisfied: packaging in /usr/local/lib/python3.10/dist-packages (from gradio) (24.2)\n",
            "Requirement already satisfied: pandas<3.0,>=1.0 in /usr/local/lib/python3.10/dist-packages (from gradio) (2.2.2)\n",
            "Requirement already satisfied: pillow<12.0,>=8.0 in /usr/local/lib/python3.10/dist-packages (from gradio) (11.0.0)\n",
            "Requirement already satisfied: pydantic>=2.0 in /usr/local/lib/python3.10/dist-packages (from gradio) (2.9.2)\n",
            "Requirement already satisfied: pydub in /usr/local/lib/python3.10/dist-packages (from gradio) (0.25.1)\n",
            "Requirement already satisfied: python-multipart==0.0.12 in /usr/local/lib/python3.10/dist-packages (from gradio) (0.0.12)\n",
            "Requirement already satisfied: pyyaml<7.0,>=5.0 in /usr/local/lib/python3.10/dist-packages (from gradio) (6.0.2)\n",
            "Requirement already satisfied: ruff>=0.2.2 in /usr/local/lib/python3.10/dist-packages (from gradio) (0.8.0)\n",
            "Requirement already satisfied: safehttpx<1.0,>=0.1.1 in /usr/local/lib/python3.10/dist-packages (from gradio) (0.1.1)\n",
            "Requirement already satisfied: semantic-version~=2.0 in /usr/local/lib/python3.10/dist-packages (from gradio) (2.10.0)\n",
            "Requirement already satisfied: starlette<1.0,>=0.40.0 in /usr/local/lib/python3.10/dist-packages (from gradio) (0.41.3)\n",
            "Requirement already satisfied: tomlkit==0.12.0 in /usr/local/lib/python3.10/dist-packages (from gradio) (0.12.0)\n",
            "Requirement already satisfied: typer<1.0,>=0.12 in /usr/local/lib/python3.10/dist-packages (from gradio) (0.13.0)\n",
            "Requirement already satisfied: typing-extensions~=4.0 in /usr/local/lib/python3.10/dist-packages (from gradio) (4.12.2)\n",
            "Requirement already satisfied: uvicorn>=0.14.0 in /usr/local/lib/python3.10/dist-packages (from gradio) (0.32.1)\n",
            "Requirement already satisfied: fsspec in /usr/local/lib/python3.10/dist-packages (from gradio-client==1.4.3->gradio) (2024.10.0)\n",
            "Requirement already satisfied: websockets<13.0,>=10.0 in /usr/local/lib/python3.10/dist-packages (from gradio-client==1.4.3->gradio) (12.0)\n",
            "Requirement already satisfied: idna>=2.8 in /usr/local/lib/python3.10/dist-packages (from anyio<5.0,>=3.0->gradio) (3.10)\n",
            "Requirement already satisfied: sniffio>=1.1 in /usr/local/lib/python3.10/dist-packages (from anyio<5.0,>=3.0->gradio) (1.3.1)\n",
            "Requirement already satisfied: exceptiongroup in /usr/local/lib/python3.10/dist-packages (from anyio<5.0,>=3.0->gradio) (1.2.2)\n",
            "Requirement already satisfied: certifi in /usr/local/lib/python3.10/dist-packages (from httpx>=0.24.1->gradio) (2024.8.30)\n",
            "Requirement already satisfied: httpcore==1.* in /usr/local/lib/python3.10/dist-packages (from httpx>=0.24.1->gradio) (1.0.7)\n",
            "Requirement already satisfied: h11<0.15,>=0.13 in /usr/local/lib/python3.10/dist-packages (from httpcore==1.*->httpx>=0.24.1->gradio) (0.14.0)\n",
            "Requirement already satisfied: filelock in /usr/local/lib/python3.10/dist-packages (from huggingface-hub>=0.25.1->gradio) (3.16.1)\n",
            "Requirement already satisfied: requests in /usr/local/lib/python3.10/dist-packages (from huggingface-hub>=0.25.1->gradio) (2.32.3)\n",
            "Requirement already satisfied: tqdm>=4.42.1 in /usr/local/lib/python3.10/dist-packages (from huggingface-hub>=0.25.1->gradio) (4.66.6)\n",
            "Requirement already satisfied: python-dateutil>=2.8.2 in /usr/local/lib/python3.10/dist-packages (from pandas<3.0,>=1.0->gradio) (2.8.2)\n",
            "Requirement already satisfied: pytz>=2020.1 in /usr/local/lib/python3.10/dist-packages (from pandas<3.0,>=1.0->gradio) (2024.2)\n",
            "Requirement already satisfied: tzdata>=2022.7 in /usr/local/lib/python3.10/dist-packages (from pandas<3.0,>=1.0->gradio) (2024.2)\n",
            "Requirement already satisfied: annotated-types>=0.6.0 in /usr/local/lib/python3.10/dist-packages (from pydantic>=2.0->gradio) (0.7.0)\n",
            "Requirement already satisfied: pydantic-core==2.23.4 in /usr/local/lib/python3.10/dist-packages (from pydantic>=2.0->gradio) (2.23.4)\n",
            "Requirement already satisfied: click>=8.0.0 in /usr/local/lib/python3.10/dist-packages (from typer<1.0,>=0.12->gradio) (8.1.7)\n",
            "Requirement already satisfied: shellingham>=1.3.0 in /usr/local/lib/python3.10/dist-packages (from typer<1.0,>=0.12->gradio) (1.5.4)\n",
            "Requirement already satisfied: rich>=10.11.0 in /usr/local/lib/python3.10/dist-packages (from typer<1.0,>=0.12->gradio) (13.9.4)\n",
            "Requirement already satisfied: six>=1.5 in /usr/local/lib/python3.10/dist-packages (from python-dateutil>=2.8.2->pandas<3.0,>=1.0->gradio) (1.16.0)\n",
            "Requirement already satisfied: markdown-it-py>=2.2.0 in /usr/local/lib/python3.10/dist-packages (from rich>=10.11.0->typer<1.0,>=0.12->gradio) (3.0.0)\n",
            "Requirement already satisfied: pygments<3.0.0,>=2.13.0 in /usr/local/lib/python3.10/dist-packages (from rich>=10.11.0->typer<1.0,>=0.12->gradio) (2.18.0)\n",
            "Requirement already satisfied: charset-normalizer<4,>=2 in /usr/local/lib/python3.10/dist-packages (from requests->huggingface-hub>=0.25.1->gradio) (3.4.0)\n",
            "Requirement already satisfied: urllib3<3,>=1.21.1 in /usr/local/lib/python3.10/dist-packages (from requests->huggingface-hub>=0.25.1->gradio) (2.2.3)\n",
            "Requirement already satisfied: mdurl~=0.1 in /usr/local/lib/python3.10/dist-packages (from markdown-it-py>=2.2.0->rich>=10.11.0->typer<1.0,>=0.12->gradio) (0.1.2)\n",
            "Running Gradio in a Colab notebook requires sharing enabled. Automatically setting `share=True` (you can turn this off by setting `share=False` in `launch()` explicitly).\n",
            "\n",
            "Colab notebook detected. This cell will run indefinitely so that you can see errors and logs. To turn off, set debug=False in launch().\n",
            "* Running on public URL: https://6ea8cfe8981c626ae8.gradio.live\n",
            "\n",
            "This share link expires in 72 hours. For free permanent hosting and GPU upgrades, run `gradio deploy` from the terminal in the working directory to deploy to Hugging Face Spaces (https://huggingface.co/spaces)\n"
          ]
        },
        {
          "output_type": "display_data",
          "data": {
            "text/plain": [
              "<IPython.core.display.HTML object>"
            ],
            "text/html": [
              "<div><iframe src=\"https://6ea8cfe8981c626ae8.gradio.live\" width=\"100%\" height=\"500\" allow=\"autoplay; camera; microphone; clipboard-read; clipboard-write;\" frameborder=\"0\" allowfullscreen></iframe></div>"
            ]
          },
          "metadata": {}
        },
        {
          "output_type": "stream",
          "name": "stdout",
          "text": [
            "Moviepy - Building video /tmp/gradio/429fd0ce8d279ac28bc4a9939e0a0332472aace4ce1599dbaeab478243964389/ZS1P1_synthetic_front_var1_trimmed.mp4.\n",
            "Moviepy - Writing video /tmp/gradio/429fd0ce8d279ac28bc4a9939e0a0332472aace4ce1599dbaeab478243964389/ZS1P1_synthetic_front_var1_trimmed.mp4\n",
            "\n"
          ]
        },
        {
          "output_type": "stream",
          "name": "stderr",
          "text": [
            "t:  97%|█████████▋| 116/120 [00:07<00:00, 18.55it/s, now=None]WARNING:py.warnings:/usr/local/lib/python3.10/dist-packages/moviepy/video/io/ffmpeg_reader.py:123: UserWarning: Warning: in file /tmp/gradio/429fd0ce8d279ac28bc4a9939e0a0332472aace4ce1599dbaeab478243964389/ZS1P1_synthetic_front_var1.mp4, 6220800 bytes wanted but 0 bytes read,at frame 116/117, at time 3.87/3.87 sec. Using the last valid frame instead.\n",
            "  warnings.warn(\"Warning: in file %s, \"%(self.filename)+\n",
            "\n",
            "WARNING:py.warnings:/usr/local/lib/python3.10/dist-packages/moviepy/video/io/ffmpeg_reader.py:123: UserWarning: Warning: in file /tmp/gradio/429fd0ce8d279ac28bc4a9939e0a0332472aace4ce1599dbaeab478243964389/ZS1P1_synthetic_front_var1.mp4, 6220800 bytes wanted but 0 bytes read,at frame 117/117, at time 3.90/3.87 sec. Using the last valid frame instead.\n",
            "  warnings.warn(\"Warning: in file %s, \"%(self.filename)+\n",
            "\n",
            "t:  99%|█████████▉| 119/120 [00:07<00:00, 19.83it/s, now=None]WARNING:py.warnings:/usr/local/lib/python3.10/dist-packages/moviepy/video/io/ffmpeg_reader.py:123: UserWarning: Warning: in file /tmp/gradio/429fd0ce8d279ac28bc4a9939e0a0332472aace4ce1599dbaeab478243964389/ZS1P1_synthetic_front_var1.mp4, 6220800 bytes wanted but 0 bytes read,at frame 118/117, at time 3.93/3.87 sec. Using the last valid frame instead.\n",
            "  warnings.warn(\"Warning: in file %s, \"%(self.filename)+\n",
            "\n",
            "WARNING:py.warnings:/usr/local/lib/python3.10/dist-packages/moviepy/video/io/ffmpeg_reader.py:123: UserWarning: Warning: in file /tmp/gradio/429fd0ce8d279ac28bc4a9939e0a0332472aace4ce1599dbaeab478243964389/ZS1P1_synthetic_front_var1.mp4, 6220800 bytes wanted but 0 bytes read,at frame 119/117, at time 3.97/3.87 sec. Using the last valid frame instead.\n",
            "  warnings.warn(\"Warning: in file %s, \"%(self.filename)+\n",
            "\n"
          ]
        },
        {
          "output_type": "stream",
          "name": "stdout",
          "text": [
            "Moviepy - Done !\n",
            "Moviepy - video ready /tmp/gradio/429fd0ce8d279ac28bc4a9939e0a0332472aace4ce1599dbaeab478243964389/ZS1P1_synthetic_front_var1_trimmed.mp4\n",
            "Moviepy - Building video /tmp/gradio/1703350eab4bff4ef4cafe8244c1c5657ca389447d0dd9ad7630e79c08b6678a/ZS1P1_synthetic_left_var1_trimmed.mp4.\n",
            "Moviepy - Writing video /tmp/gradio/1703350eab4bff4ef4cafe8244c1c5657ca389447d0dd9ad7630e79c08b6678a/ZS1P1_synthetic_left_var1_trimmed.mp4\n",
            "\n"
          ]
        },
        {
          "output_type": "stream",
          "name": "stderr",
          "text": [
            "t:  96%|█████████▌| 115/120 [00:05<00:00, 18.20it/s, now=None]WARNING:py.warnings:/usr/local/lib/python3.10/dist-packages/moviepy/video/io/ffmpeg_reader.py:123: UserWarning: Warning: in file /tmp/gradio/1703350eab4bff4ef4cafe8244c1c5657ca389447d0dd9ad7630e79c08b6678a/ZS1P1_synthetic_left_var1.mp4, 6220800 bytes wanted but 0 bytes read,at frame 116/117, at time 3.87/3.87 sec. Using the last valid frame instead.\n",
            "  warnings.warn(\"Warning: in file %s, \"%(self.filename)+\n",
            "\n",
            "t:  98%|█████████▊| 118/120 [00:05<00:00, 19.84it/s, now=None]WARNING:py.warnings:/usr/local/lib/python3.10/dist-packages/moviepy/video/io/ffmpeg_reader.py:123: UserWarning: Warning: in file /tmp/gradio/1703350eab4bff4ef4cafe8244c1c5657ca389447d0dd9ad7630e79c08b6678a/ZS1P1_synthetic_left_var1.mp4, 6220800 bytes wanted but 0 bytes read,at frame 117/117, at time 3.90/3.87 sec. Using the last valid frame instead.\n",
            "  warnings.warn(\"Warning: in file %s, \"%(self.filename)+\n",
            "\n",
            "WARNING:py.warnings:/usr/local/lib/python3.10/dist-packages/moviepy/video/io/ffmpeg_reader.py:123: UserWarning: Warning: in file /tmp/gradio/1703350eab4bff4ef4cafe8244c1c5657ca389447d0dd9ad7630e79c08b6678a/ZS1P1_synthetic_left_var1.mp4, 6220800 bytes wanted but 0 bytes read,at frame 118/117, at time 3.93/3.87 sec. Using the last valid frame instead.\n",
            "  warnings.warn(\"Warning: in file %s, \"%(self.filename)+\n",
            "\n",
            "WARNING:py.warnings:/usr/local/lib/python3.10/dist-packages/moviepy/video/io/ffmpeg_reader.py:123: UserWarning: Warning: in file /tmp/gradio/1703350eab4bff4ef4cafe8244c1c5657ca389447d0dd9ad7630e79c08b6678a/ZS1P1_synthetic_left_var1.mp4, 6220800 bytes wanted but 0 bytes read,at frame 119/117, at time 3.97/3.87 sec. Using the last valid frame instead.\n",
            "  warnings.warn(\"Warning: in file %s, \"%(self.filename)+\n",
            "\n"
          ]
        },
        {
          "output_type": "stream",
          "name": "stdout",
          "text": [
            "Moviepy - Done !\n",
            "Moviepy - video ready /tmp/gradio/1703350eab4bff4ef4cafe8244c1c5657ca389447d0dd9ad7630e79c08b6678a/ZS1P1_synthetic_left_var1_trimmed.mp4\n",
            "Keyboard interruption in main thread... closing server.\n",
            "Killing tunnel 127.0.0.1:7860 <> https://6ea8cfe8981c626ae8.gradio.live\n"
          ]
        },
        {
          "output_type": "execute_result",
          "data": {
            "text/plain": []
          },
          "metadata": {},
          "execution_count": 1
        }
      ],
      "source": [
        "!pip install gradio\n",
        "import gradio as gr\n",
        "from moviepy.editor import VideoFileClip\n",
        "import requests\n",
        "import os\n",
        "video1 = \"/content/ZS1P1_synthetic_front_var1.mp4\"\n",
        "video2 = \"/content/ZS1P1_synthetic_left_var1.mp4\"\n",
        "\n",
        "def trim_video(video_path, start_time, end_time):\n",
        "    \"\"\"Trim video to specified start and end times.\"\"\"\n",
        "    clip = VideoFileClip(video_path).subclip(start_time, end_time)\n",
        "    trimmed_path = video_path.replace(\".mp4\", \"_trimmed.mp4\")\n",
        "    clip.write_videofile(trimmed_path, codec=\"libx264\")\n",
        "    return trimmed_path\n",
        "\n",
        "\n",
        "def detect_action_with_vemo(api_key, video_path, action):\n",
        "\n",
        "    url = \"https://ai.api.nvidia.com/v1/vlm/nvidia/neva-22b\"  # Replace with the actual VEMO API endpoint\n",
        "    headers = {\"Authorization\": f\"Bearer {api_key}\"}\n",
        "    files = {\"video\": open(video_path, \"rb\")}\n",
        "    data = {\"action\": action}\n",
        "\n",
        "    response = requests.post(url, headers=headers, files=files, data=data)\n",
        "\n",
        "    if response.status_code == 200:\n",
        "        return response.json()  # Assume the API returns a JSON with relevant data\n",
        "    else:\n",
        "        raise ValueError(f\"VEMO API Error: {response.status_code} - {response.text}\")\n",
        "\n",
        "\n",
        "def process_videos(video1, video2, action, start_time, end_time):\n",
        "\n",
        "    api_key = \"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\"\n",
        "\n",
        "    # Trim videos\n",
        "    video1_trimmed = trim_video(video1, start_time, end_time)\n",
        "    video2_trimmed = trim_video(video2, start_time, end_time)\n",
        "\n",
        "    # Detect actions using VEMO\n",
        "    try:\n",
        "        result1 = detect_action_with_vemo(api_key, video1_trimmed, action)\n",
        "        result2 = detect_action_with_vemo(api_key, video2_trimmed, action)\n",
        "\n",
        "        # Calculate recognition success rates\n",
        "        success_rate1 = result1.get(\"confidence\", 0) * 100\n",
        "        success_rate2 = result2.get(\"confidence\", 0) * 100\n",
        "\n",
        "        return f\"Video 1 Success Rate: {success_rate1:.2f}%\", f\"Video 2 Success Rate: {success_rate2:.2f}%\"\n",
        "\n",
        "    except ValueError as e:\n",
        "        return str(e), \"\"\n",
        "\n",
        "\n",
        "def gradio_interface():\n",
        "    with gr.Blocks() as demo:\n",
        "        gr.Markdown(\"### Video Comparison using VEMO for Action Detection\")\n",
        "\n",
        "        with gr.Row():\n",
        "            video1 = gr.Video(label=\"Upload First Video\")\n",
        "            video2 = gr.Video(label=\"Upload Second Video\")\n",
        "\n",
        "        action = gr.Textbox(label=\"Action to Detect\", placeholder=\"e.g., jumping, running\")\n",
        "\n",
        "        with gr.Row():\n",
        "            start_time = gr.Number(label=\"Start Time (seconds)\", value=0)\n",
        "            end_time = gr.Number(label=\"End Time (seconds)\", value=10)\n",
        "\n",
        "        compare_button = gr.Button(\"Compare Videos\")\n",
        "\n",
        "        output1 = gr.Textbox(label=\"Video 1 Recognition Rate\")\n",
        "        output2 = gr.Textbox(label=\"Video 2 Recognition Rate\")\n",
        "\n",
        "        compare_button.click(\n",
        "            process_videos,\n",
        "            inputs=[video1, video2, action, start_time, end_time],\n",
        "            outputs=[output1, output2]\n",
        "        )\n",
        "\n",
        "    return demo\n",
        "\n",
        "\n",
        "# Launch the app\n",
        "demo = gradio_interface()\n",
        "demo.launch(debug = True)\n"
      ]
    },
    {
      "cell_type": "code",
      "source": [],
      "metadata": {
        "id": "hkCWE3HYGwCA"
      },
      "execution_count": null,
      "outputs": []
    }
  ]
}